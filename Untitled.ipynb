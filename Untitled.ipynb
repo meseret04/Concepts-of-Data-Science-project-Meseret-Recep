{
 "cells": [
  {
   "cell_type": "code",
   "execution_count": 11,
   "metadata": {},
   "outputs": [
    {
     "name": "stdout",
     "output_type": "stream",
     "text": [
      "6 4 6 2 5 1 6 3 6 "
     ]
    }
   ],
   "source": [
    "\n",
    "\n",
    "class newNode:\n",
    "    def __init__(self, data):\n",
    "        self.data = data \n",
    "        self.left = self.right = None\n",
    "  \n",
    "# Function to insert nodes in level order \n",
    "def insertLevelOrder(arr, root, i, n):\n",
    "      \n",
    "    # Base case for recursion \n",
    "    if i < n:\n",
    "        temp = newNode(arr[i]) \n",
    "        root = temp \n",
    "  \n",
    "        # insert left child \n",
    "        root.left = insertLevelOrder(arr, root.left,\n",
    "                                     2 * i + 1, n) \n",
    "  \n",
    "        # insert right child \n",
    "        root.right = insertLevelOrder(arr, root.right,\n",
    "                                      2 * i + 2, n)\n",
    "    return root\n",
    "\n",
    "# Function to print tree nodes in \n",
    "# InOrder fashion \n",
    "def inOrder(root):\n",
    "    if root != None:\n",
    "        inOrder(root.left) \n",
    "        print(root.data,end=\" \") \n",
    "        inOrder(root.right)\n",
    "        \n",
    "# Driver Code\n",
    "if __name__ == '__main__':\n",
    "    arr = [1, 2, 3, 4, 5, 6, 6, 6, 6]\n",
    "    n = len(arr)\n",
    "    root = None\n",
    "    root = insertLevelOrder(arr, root, 0, n) \n",
    "    inOrder(root)       "
   ]
  },
  {
   "cell_type": "code",
   "execution_count": 12,
   "metadata": {},
   "outputs": [],
   "source": [
    "a=b=2"
   ]
  },
  {
   "cell_type": "code",
   "execution_count": 13,
   "metadata": {},
   "outputs": [
    {
     "data": {
      "text/plain": [
       "2"
      ]
     },
     "execution_count": 13,
     "metadata": {},
     "output_type": "execute_result"
    }
   ],
   "source": [
    "a"
   ]
  },
  {
   "cell_type": "code",
   "execution_count": null,
   "metadata": {},
   "outputs": [],
   "source": []
  },
  {
   "cell_type": "code",
   "execution_count": 14,
   "metadata": {},
   "outputs": [
    {
     "data": {
      "text/plain": [
       "2"
      ]
     },
     "execution_count": 14,
     "metadata": {},
     "output_type": "execute_result"
    }
   ],
   "source": [
    "b"
   ]
  },
  {
   "cell_type": "code",
   "execution_count": null,
   "metadata": {},
   "outputs": [],
   "source": []
  }
 ],
 "metadata": {
  "kernelspec": {
   "display_name": "Python 3",
   "language": "python",
   "name": "python3"
  },
  "language_info": {
   "codemirror_mode": {
    "name": "ipython",
    "version": 3
   },
   "file_extension": ".py",
   "mimetype": "text/x-python",
   "name": "python",
   "nbconvert_exporter": "python",
   "pygments_lexer": "ipython3",
   "version": "3.8.8"
  }
 },
 "nbformat": 4,
 "nbformat_minor": 4
}
